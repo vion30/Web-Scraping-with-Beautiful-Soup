{
 "cells": [
  {
   "cell_type": "markdown",
   "metadata": {
    "id": "tlQhNuU5W8p0"
   },
   "source": [
    "## Day 18 \n",
    "\n",
    "**Q1. Problem Statement: Web Scrapping using BeautifulSoup** <br>\n",
    "Write a Python program that can extract the data from a website using web scrapping concepts to perform the following tasks\n",
    "1.\tUse the request library and the link to extract the data. \n",
    "2.\tUse BeautifulSoup to prepare the website's source code, then try to find a table on the source page.\n",
    "3.\tAfter finding the table, extract data from all available columns and store it in the dataframe.\n"
   ]
  },
  {
   "cell_type": "markdown",
   "metadata": {
    "id": "FbSNr4gqW8p8"
   },
   "source": [
    "#### Install library if it is not found ,use pip command to install"
   ]
  },
  {
   "cell_type": "code",
   "execution_count": null,
   "metadata": {
    "id": "QveHN_YwW8p-",
    "outputId": "8658f8d1-25f5-44f4-804b-c470f3dafc20"
   },
   "outputs": [
    {
     "name": "stdout",
     "output_type": "stream",
     "text": [
      "Collecting bs4\n",
      "  Downloading bs4-0.0.1.tar.gz (1.1 kB)\n",
      "Requirement already satisfied: beautifulsoup4 in c:\\users\\abhishek\\anaconda3\\lib\\site-packages (from bs4) (4.9.3)\n",
      "Requirement already satisfied: soupsieve>1.2; python_version >= \"3.0\" in c:\\users\\abhishek\\anaconda3\\lib\\site-packages (from beautifulsoup4->bs4) (2.0.1)\n",
      "Building wheels for collected packages: bs4\n",
      "  Building wheel for bs4 (setup.py): started\n",
      "  Building wheel for bs4 (setup.py): finished with status 'done'\n",
      "  Created wheel for bs4: filename=bs4-0.0.1-py3-none-any.whl size=1277 sha256=f27a42d979fa6c134df5adffbe71a91eab2a98d2e9123fa194846cc2bbfcc4dc\n",
      "  Stored in directory: c:\\users\\abhishek\\appdata\\local\\pip\\cache\\wheels\\75\\78\\21\\68b124549c9bdc94f822c02fb9aa3578a669843f9767776bca\n",
      "Successfully built bs4\n",
      "Installing collected packages: bs4\n",
      "Successfully installed bs4-0.0.1\n"
     ]
    }
   ],
   "source": [
    "!pip install bs4"
   ]
  },
  {
   "cell_type": "markdown",
   "metadata": {
    "id": "Po6f8tmKW8qB"
   },
   "source": [
    "**Step-1:** Importing Libraries."
   ]
  },
  {
   "cell_type": "code",
   "execution_count": 7,
   "metadata": {},
   "outputs": [],
   "source": [
    "#Importing Libraries.\n",
    "import requests\n",
    "from bs4 import BeautifulSoup\n",
    "import pandas as pd"
   ]
  },
  {
   "cell_type": "code",
   "execution_count": 8,
   "metadata": {},
   "outputs": [],
   "source": [
    "# Define the URL of the Wikipedia page you want to scrape\n",
    "url = \"https://en.wikipedia.org/wiki/List_of_countries_and_dependencies_by_population\"\n"
   ]
  },
  {
   "cell_type": "markdown",
   "metadata": {
    "id": "IJaEtY-oW8qD"
   },
   "source": [
    "Using request library, fetch data from given link. <br>\n",
    "Call get method with help of request library and pass given link as perameter."
   ]
  },
  {
   "cell_type": "code",
   "execution_count": 9,
   "metadata": {},
   "outputs": [],
   "source": [
    "#Using request library, fetch data from given link.\n",
    "#Call get method with help of request library and pass given link as perameter.\n",
    "# Send an HTTP GET request to the URL\n",
    "response = requests.get(url)"
   ]
  },
  {
   "cell_type": "code",
   "execution_count": 10,
   "metadata": {},
   "outputs": [
    {
     "data": {
      "text/plain": [
       "<Response [200]>"
      ]
     },
     "execution_count": 10,
     "metadata": {},
     "output_type": "execute_result"
    }
   ],
   "source": [
    "##status code is a three-digit number that indicates the outcome of the request.\n",
    "# status code 200 defines Success - OK\n",
    "response"
   ]
  },
  {
   "cell_type": "markdown",
   "metadata": {},
   "source": [
    "parser --- HTML, parsing involves taking the raw HTML code of a webpage and converting it into a structured format"
   ]
  },
  {
   "cell_type": "code",
   "execution_count": 61,
   "metadata": {},
   "outputs": [
    {
     "data": {
      "text/html": [
       "<div>\n",
       "<style scoped>\n",
       "    .dataframe tbody tr th:only-of-type {\n",
       "        vertical-align: middle;\n",
       "    }\n",
       "\n",
       "    .dataframe tbody tr th {\n",
       "        vertical-align: top;\n",
       "    }\n",
       "\n",
       "    .dataframe thead th {\n",
       "        text-align: right;\n",
       "    }\n",
       "</style>\n",
       "<table border=\"1\" class=\"dataframe\">\n",
       "  <thead>\n",
       "    <tr style=\"text-align: right;\">\n",
       "      <th></th>\n",
       "      <th>Country</th>\n",
       "      <th>Population</th>\n",
       "      <th>Percentage of the world</th>\n",
       "      <th>Date</th>\n",
       "      <th>Source (official or from the United Nations)</th>\n",
       "      <th>Notes</th>\n",
       "    </tr>\n",
       "  </thead>\n",
       "  <tbody>\n",
       "    <tr>\n",
       "      <th>0</th>\n",
       "      <td>World</td>\n",
       "      <td>8,067,755,000</td>\n",
       "      <td>100%</td>\n",
       "      <td>25 Oct 2023</td>\n",
       "      <td>UN projection[3]</td>\n",
       "      <td></td>\n",
       "    </tr>\n",
       "    <tr>\n",
       "      <th>1</th>\n",
       "      <td>China</td>\n",
       "      <td>1,411,750,000</td>\n",
       "      <td>17.5%</td>\n",
       "      <td>31 Dec 2022</td>\n",
       "      <td>Official estimate[4]</td>\n",
       "      <td>[b]</td>\n",
       "    </tr>\n",
       "    <tr>\n",
       "      <th>2</th>\n",
       "      <td>India</td>\n",
       "      <td>1,392,329,000</td>\n",
       "      <td>17.3%</td>\n",
       "      <td>1 Mar 2023</td>\n",
       "      <td>Official projection[5]</td>\n",
       "      <td>[c]</td>\n",
       "    </tr>\n",
       "    <tr>\n",
       "      <th>3</th>\n",
       "      <td>United States</td>\n",
       "      <td>335,562,000</td>\n",
       "      <td>4.2%</td>\n",
       "      <td>25 Oct 2023</td>\n",
       "      <td>National population clock[7]</td>\n",
       "      <td>[d]</td>\n",
       "    </tr>\n",
       "    <tr>\n",
       "      <th>4</th>\n",
       "      <td>Indonesia</td>\n",
       "      <td>278,696,200</td>\n",
       "      <td>3.5%</td>\n",
       "      <td>1 Jul 2023</td>\n",
       "      <td>National annual projection[8]</td>\n",
       "      <td></td>\n",
       "    </tr>\n",
       "    <tr>\n",
       "      <th>...</th>\n",
       "      <td>...</td>\n",
       "      <td>...</td>\n",
       "      <td>...</td>\n",
       "      <td>...</td>\n",
       "      <td>...</td>\n",
       "      <td>...</td>\n",
       "    </tr>\n",
       "    <tr>\n",
       "      <th>236</th>\n",
       "      <td>Tokelau(NZ)</td>\n",
       "      <td>1,647</td>\n",
       "      <td>0%</td>\n",
       "      <td>1 Jan 2019</td>\n",
       "      <td>2019 Census[230]</td>\n",
       "      <td></td>\n",
       "    </tr>\n",
       "    <tr>\n",
       "      <th>237</th>\n",
       "      <td>Niue</td>\n",
       "      <td>1,549</td>\n",
       "      <td>0%</td>\n",
       "      <td>1 Jul 2021</td>\n",
       "      <td>National annual projection[182]</td>\n",
       "      <td></td>\n",
       "    </tr>\n",
       "    <tr>\n",
       "      <th>238</th>\n",
       "      <td>Vatican City</td>\n",
       "      <td>764</td>\n",
       "      <td>0%</td>\n",
       "      <td>26 Jun 2023</td>\n",
       "      <td>Official figure[231]</td>\n",
       "      <td>[af]</td>\n",
       "    </tr>\n",
       "    <tr>\n",
       "      <th>239</th>\n",
       "      <td>Cocos (Keeling) Islands(Australia)</td>\n",
       "      <td>593</td>\n",
       "      <td>0%</td>\n",
       "      <td>30 Jun 2020</td>\n",
       "      <td>2021 Census[232]</td>\n",
       "      <td></td>\n",
       "    </tr>\n",
       "    <tr>\n",
       "      <th>240</th>\n",
       "      <td>Pitcairn Islands(UK)</td>\n",
       "      <td>47</td>\n",
       "      <td>0%</td>\n",
       "      <td>1 Jul 2021</td>\n",
       "      <td>Official estimate[233]</td>\n",
       "      <td></td>\n",
       "    </tr>\n",
       "  </tbody>\n",
       "</table>\n",
       "<p>241 rows × 6 columns</p>\n",
       "</div>"
      ],
      "text/plain": [
       "                                Country     Population  \\\n",
       "0                                 World  8,067,755,000   \n",
       "1                                 China  1,411,750,000   \n",
       "2                                 India  1,392,329,000   \n",
       "3                         United States    335,562,000   \n",
       "4                             Indonesia    278,696,200   \n",
       "..                                  ...            ...   \n",
       "236                         Tokelau(NZ)          1,647   \n",
       "237                                Niue          1,549   \n",
       "238                        Vatican City            764   \n",
       "239  Cocos (Keeling) Islands(Australia)            593   \n",
       "240                Pitcairn Islands(UK)             47   \n",
       "\n",
       "    Percentage of the world         Date  \\\n",
       "0                      100%  25 Oct 2023   \n",
       "1                     17.5%  31 Dec 2022   \n",
       "2                     17.3%   1 Mar 2023   \n",
       "3                      4.2%  25 Oct 2023   \n",
       "4                      3.5%   1 Jul 2023   \n",
       "..                      ...          ...   \n",
       "236                      0%   1 Jan 2019   \n",
       "237                      0%   1 Jul 2021   \n",
       "238                      0%  26 Jun 2023   \n",
       "239                      0%  30 Jun 2020   \n",
       "240                      0%   1 Jul 2021   \n",
       "\n",
       "    Source (official or from the United Nations) Notes  \n",
       "0                               UN projection[3]        \n",
       "1                           Official estimate[4]   [b]  \n",
       "2                         Official projection[5]   [c]  \n",
       "3                   National population clock[7]   [d]  \n",
       "4                  National annual projection[8]        \n",
       "..                                           ...   ...  \n",
       "236                             2019 Census[230]        \n",
       "237              National annual projection[182]        \n",
       "238                         Official figure[231]  [af]  \n",
       "239                             2021 Census[232]        \n",
       "240                       Official estimate[233]        \n",
       "\n",
       "[241 rows x 6 columns]"
      ]
     },
     "execution_count": 61,
     "metadata": {},
     "output_type": "execute_result"
    }
   ],
   "source": [
    "# Check if the request was successful\n",
    "if response.status_code == 200:\n",
    "    # Parse the HTML content of the page using BeautifulSoup\n",
    "    soup = BeautifulSoup(response.text, \"html.parser\")\n",
    "\n",
    "    # Find the specific table by its class or other identifier\n",
    "    # In this example, we'll find the first table with the class \"wikitable\"\n",
    "    table = soup.find('table', {'class': 'wikitable'})\n",
    "\n",
    "    # Extract data from the table and store it in a list of dictionaries\n",
    "    data = []\n",
    "    for row in table.find_all('tr')[1:]:  # Skip the header row\n",
    "        #The table.find_all('tr') method call finds and returns a list of all <tr> tag elements within the table\n",
    "        cols = row.find_all('td')#For each row, we find all the table data (cell) elements (<td> tags) and store them in the cols list.\n",
    "        if len(cols) < 6:  # Make sure there are at least 6 columns\n",
    "            continue\n",
    "#get_text(strip=True) method to extract the text content while also removing any leading or trailing whitespace (spaces or newlines).\n",
    "        country = cols[0].get_text(strip=True)\n",
    "        population = cols[1].get_text(strip=True)\n",
    "        percentage = cols[2].get_text(strip=True)\n",
    "        date = cols[3].get_text(strip=True)\n",
    "        source = cols[4].get_text(strip=True)\n",
    "        notes = cols[5].get_text(strip=True)\n",
    "\n",
    "        data.append({'Country': country, 'Population': population, 'Percentage of the world': percentage, 'Date': date, 'Source (official or from the United Nations)': source, 'Notes': notes})\n",
    "\n",
    "    # Create a DataFrame from the list of dictionaries\n",
    "    df = pd.DataFrame(data)\n",
    "\n",
    "    # Print the DataFrame or perform further operations\n",
    "df"
   ]
  }
 ],
 "metadata": {
  "colab": {
   "name": "DS_D18_DIY_Solution_V1_0.ipynb",
   "provenance": []
  },
  "kernelspec": {
   "display_name": "Python 3 (ipykernel)",
   "language": "python",
   "name": "python3"
  },
  "language_info": {
   "codemirror_mode": {
    "name": "ipython",
    "version": 3
   },
   "file_extension": ".py",
   "mimetype": "text/x-python",
   "name": "python",
   "nbconvert_exporter": "python",
   "pygments_lexer": "ipython3",
   "version": "3.12.4"
  }
 },
 "nbformat": 4,
 "nbformat_minor": 4
}
